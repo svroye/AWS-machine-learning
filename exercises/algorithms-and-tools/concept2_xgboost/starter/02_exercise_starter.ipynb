{
 "cells": [
  {
   "cell_type": "markdown",
   "id": "d9520883-fb9c-42fd-8d73-d19e3a401c7f",
   "metadata": {},
   "source": [
    "# Exercise: XGBoost\n",
    "\n",
    "In this exercise, we'll be exploring XGBoost and leveraging it on the same regression and classification problem as `Exercise: Linear Models`. This is useful as when are you faced with a new challenge, you often try many different models to see how they each perform on your problem space. XGBoost can be tuned in many different ways, so we'll stick with some of the simpler defaults.\n",
    "\n",
    "You're tasked with completing the following steps:\n",
    "1. Load in the wine dataset from scikit learn.\n",
    "2. For the wine dataset, create a train and test split, 80% train / 20% test.\n",
    "3. Load the train/test data into the xgboost matrix\n",
    "4. Create a XGBoost Classifier model with these hyper parameters:\n",
    "    1. max_depth: 5\n",
    "    2. eta: 0.1\n",
    "    3. objective: multi:softmax\n",
    "    4. num_class: 3\n",
    "    5. num_round: 100\n",
    "5. Evaluate the model with the test dataset\n",
    "6. Output the feature importance of the wine dataset\n",
    "7. Load the diabetes dataset from scikit learn\n",
    "8. For the Diabetes dataset, create a train and test split, 80% train / 20% test.\n",
    "9. Load the train/test data into the xgboost matrix\n",
    "10. Create a XGBoost Regression model model with these hyper parameters:\n",
    "    1. max_depth: 2\n",
    "    2. eta: 0.03\n",
    "    3. gamma: 0.09\n",
    "    4. colsample_bytree: 0.5\n",
    "    5. objective: reg:squarederror\n",
    "    6. num_round: 100\n",
    "11. Evaluate the model with the test dataset\n",
    "12. Output the feature importance of the diabetes dataset"
   ]
  },
  {
   "cell_type": "markdown",
   "id": "d8a458f2-c56e-495d-a8c2-db7e8860e507",
   "metadata": {},
   "source": [
    "## Setup"
   ]
  },
  {
   "cell_type": "markdown",
   "id": "faffb8fe-667a-490b-b512-2d9dce41e0e5",
   "metadata": {},
   "source": [
    "### Open up Sagemaker Studio"
   ]
  },
  {
   "cell_type": "markdown",
   "id": "bc61b6e7-780d-4aef-9287-2b9b9f68c182",
   "metadata": {},
   "source": [
    "1. Notebook should be using a `ml.t3.medium` instance (2 vCPU + 4 GiB)\n",
    "2. Notebook should be using kernal: `Python 3 (Data Science)`"
   ]
  },
  {
   "cell_type": "code",
   "execution_count": 1,
   "id": "28b0b692-3c1d-4ad3-9535-7a42e38ec0f6",
   "metadata": {},
   "outputs": [
    {
     "name": "stdout",
     "output_type": "stream",
     "text": [
      "Requirement already satisfied: xgboost in /Users/mattmaybeno/workspace/nd009t-c1-intro-to-ml/.venv/lib/python3.7/site-packages (1.3.3)\n",
      "Requirement already satisfied: scipy in /Users/mattmaybeno/workspace/nd009t-c1-intro-to-ml/.venv/lib/python3.7/site-packages (from xgboost) (1.6.3)\n",
      "Requirement already satisfied: numpy in /Users/mattmaybeno/workspace/nd009t-c1-intro-to-ml/.venv/lib/python3.7/site-packages (from xgboost) (1.19.5)\n"
     ]
    }
   ],
   "source": [
    "# xgboost is not preinstalled so we'll need to install it manually\n",
    "!pip install xgboost"
   ]
  },
  {
   "cell_type": "code",
   "execution_count": null,
   "id": "6dfefd6d-ed7f-46e3-a0c0-befda8d6aa23",
   "metadata": {},
   "outputs": [],
   "source": [
    "import numpy as np\n",
    "import pandas as pd\n",
    "from sklearn import datasets\n",
    "from sklearn.metrics import r2_score, accuracy_score\n",
    "from sklearn.model_selection import train_test_split\n",
    "import xgboost as xgb"
   ]
  },
  {
   "cell_type": "markdown",
   "id": "66e6fd8c-df16-4109-a7a8-6c6ccb2cdf29",
   "metadata": {},
   "source": [
    "## XGBoost Classifier"
   ]
  },
  {
   "cell_type": "code",
   "execution_count": null,
   "id": "fc9c70a0-c311-4cf7-befb-92641f071326",
   "metadata": {},
   "outputs": [],
   "source": [
    "# Load in the wine dataset\n",
    "wine = ?"
   ]
  },
  {
   "cell_type": "code",
   "execution_count": null,
   "id": "2d674674-0c0f-4a2a-8d0a-c8b1fc4c11a0",
   "metadata": {},
   "outputs": [],
   "source": [
    "# Create the wine `data` dataset as a dataframe and name the columns with `feature_names`\n",
    "df = pd.DataFrame(?, columns=?)\n",
    "\n",
    "# Include the target as well\n",
    "df['target'] = ?"
   ]
  },
  {
   "cell_type": "code",
   "execution_count": null,
   "id": "75ee9c82-4e05-4952-8be9-7f823436d32b",
   "metadata": {},
   "outputs": [],
   "source": [
    "# Split your data with these ratios: train: 0.8 | test: 0.2\n",
    "df_train, df_test = ?"
   ]
  },
  {
   "cell_type": "code",
   "execution_count": null,
   "id": "185f38aa-56a6-470c-9238-640b11214bcd",
   "metadata": {},
   "outputs": [],
   "source": [
    "# Load your train/test dataframe into DMatrix\n",
    "dtrain = xgb.DMatrix(?)\n",
    "dtest = xgb.DMatrix(?)"
   ]
  },
  {
   "cell_type": "code",
   "execution_count": null,
   "id": "7205ac08-20cd-48c5-a90e-44960f6d81f6",
   "metadata": {
    "tags": []
   },
   "outputs": [],
   "source": [
    "# How does the model perform on the training dataset and default model parameters?\n",
    "# Using the hyperparameters in the requirements, is there improvement?\n",
    "# Remember we use the test dataset to score the model\n",
    "param = {?}\n",
    "?\n",
    "bst = xgb.train(?)"
   ]
  },
  {
   "cell_type": "code",
   "execution_count": null,
   "id": "373d5630-84b5-4fbb-9b9a-08871ec4fe98",
   "metadata": {},
   "outputs": [],
   "source": [
    "# xgboost is not scikit learn, so you'll need to do predictions using their API\n",
    "preds = ?"
   ]
  },
  {
   "cell_type": "code",
   "execution_count": null,
   "id": "7af1a25e-1c1a-49ce-a27b-eade3c5b215f",
   "metadata": {
    "tags": []
   },
   "outputs": [],
   "source": [
    "# Accuracy score using scikit learn function for classification metric\n",
    "accuracy_score(?)"
   ]
  },
  {
   "cell_type": "code",
   "execution_count": null,
   "id": "ff215bae-6b1b-43cb-8d9e-957b5f50190f",
   "metadata": {},
   "outputs": [],
   "source": [
    "# Plot the importance of the features based on fitted trees\n",
    "xgb.?"
   ]
  },
  {
   "cell_type": "markdown",
   "id": "d18b9979-db51-44eb-a2ba-c5fc6fab843b",
   "metadata": {},
   "source": [
    "## XGBoost Regression"
   ]
  },
  {
   "cell_type": "code",
   "execution_count": null,
   "id": "6fe39b07-53b3-4576-b392-1a1df77b43f7",
   "metadata": {},
   "outputs": [],
   "source": [
    "# Load in the diabetes dataset\n",
    "diabetes = ?"
   ]
  },
  {
   "cell_type": "code",
   "execution_count": null,
   "id": "e36b9530-5bcd-40b4-a1f0-e6ad32bac145",
   "metadata": {},
   "outputs": [],
   "source": [
    "# Create the diabetes `data` dataset as a dataframe and name the columns with `feature_names`\n",
    "dfd = pd.DataFrame(?, columns=?)\n",
    "\n",
    "# Include the target as well\n",
    "dfd['target'] = ?"
   ]
  },
  {
   "cell_type": "code",
   "execution_count": null,
   "id": "85a9b895-00a5-48b9-951f-e36436255d5c",
   "metadata": {},
   "outputs": [],
   "source": [
    "# Split your data with these ratios: train: 0.8 | test: 0.2\n",
    "dfd_train, dfd_test = ?"
   ]
  },
  {
   "cell_type": "code",
   "execution_count": null,
   "id": "11ca6d04-4ba7-4aba-834e-9e11afb5c22e",
   "metadata": {},
   "outputs": [],
   "source": [
    "# Load your train/test dataframe into DMatrix\n",
    "dtrain = xgb.DMatrix(?)\n",
    "dtest = xgb.DMatrix(?)"
   ]
  },
  {
   "cell_type": "code",
   "execution_count": null,
   "id": "1b0f9d06-9436-4a4e-988d-f0ad00b26e10",
   "metadata": {
    "tags": []
   },
   "outputs": [],
   "source": [
    "# How does the model perform on the training dataset and default model parameters?\n",
    "# Using the hyperparameters in the requirements, is there improvement?\n",
    "# Remember we use the test dataset to score the model\n",
    "param = {?}\n",
    "?\n",
    "bst = xgb.train(?)"
   ]
  },
  {
   "cell_type": "code",
   "execution_count": null,
   "id": "98c39401-a8cb-4e6c-aabb-c318f384e423",
   "metadata": {},
   "outputs": [],
   "source": [
    "# xgboost is not scikit learn, so you'll need to do predictions using their API\n",
    "preds = ?"
   ]
  },
  {
   "cell_type": "code",
   "execution_count": null,
   "id": "5802ec80-f1c1-45b8-85fe-43ec349fec01",
   "metadata": {
    "tags": []
   },
   "outputs": [],
   "source": [
    "# R2 score using scikit learn function for regression metric\n",
    "r2_score(?)"
   ]
  },
  {
   "cell_type": "code",
   "execution_count": null,
   "id": "8db9e601-7bd7-47ea-aa07-2f2c7b3649ff",
   "metadata": {},
   "outputs": [],
   "source": [
    "# Plot the importance of the features based on fitted trees\n",
    "xgb.?"
   ]
  }
 ],
 "metadata": {
  "kernelspec": {
   "display_name": "Python 3",
   "language": "python",
   "name": "python3"
  },
  "language_info": {
   "codemirror_mode": {
    "name": "ipython",
    "version": 3
   },
   "file_extension": ".py",
   "mimetype": "text/x-python",
   "name": "python",
   "nbconvert_exporter": "python",
   "pygments_lexer": "ipython3",
   "version": "3.7.9"
  }
 },
 "nbformat": 4,
 "nbformat_minor": 5
}
